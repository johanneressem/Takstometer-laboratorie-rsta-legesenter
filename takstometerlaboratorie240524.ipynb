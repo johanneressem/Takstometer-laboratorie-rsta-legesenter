{
 "cells": [
  {
   "cell_type": "code",
   "execution_count": 1,
   "id": "4f7c58f4-b511-47b8-9e52-2be5cbb29c96",
   "metadata": {
    "scrolled": true
   },
   "outputs": [
    {
     "data": {
      "application/vnd.jupyter.widget-view+json": {
       "model_id": "6b8823ff297947bb920cc5d68d0e75cd",
       "version_major": 2,
       "version_minor": 0
      },
      "text/plain": [
       "RadioButtons(description='Velg kontakttype:', options=('Kun laboratorie', 'Ekstern rekvirent', 'Konsultasjon s…"
      ]
     },
     "metadata": {},
     "output_type": "display_data"
    },
    {
     "data": {
      "application/vnd.jupyter.widget-view+json": {
       "model_id": "6b878dde6ba44e64b2bef8bf57f5b867",
       "version_major": 2,
       "version_minor": 0
      },
      "text/plain": [
       "Label(value='Lokale prøver:')"
      ]
     },
     "metadata": {},
     "output_type": "display_data"
    },
    {
     "data": {
      "application/vnd.jupyter.widget-view+json": {
       "model_id": "4ea3c76684f6424884566af888c8ee70",
       "version_major": 2,
       "version_minor": 0
      },
      "text/plain": [
       "Checkbox(value=False, description='CRP')"
      ]
     },
     "metadata": {},
     "output_type": "display_data"
    },
    {
     "data": {
      "application/vnd.jupyter.widget-view+json": {
       "model_id": "12b30b59a0fd49d7b12ea695ebca77d1",
       "version_major": 2,
       "version_minor": 0
      },
      "text/plain": [
       "Checkbox(value=False, description='Differensialtelling av leukocytter')"
      ]
     },
     "metadata": {},
     "output_type": "display_data"
    },
    {
     "data": {
      "application/vnd.jupyter.widget-view+json": {
       "model_id": "590af129d1d1480eb54144000e10e227",
       "version_major": 2,
       "version_minor": 0
      },
      "text/plain": [
       "Checkbox(value=False, description='Glukose')"
      ]
     },
     "metadata": {},
     "output_type": "display_data"
    },
    {
     "data": {
      "application/vnd.jupyter.widget-view+json": {
       "model_id": "d0b54de3397a4da484059936119191f3",
       "version_major": 2,
       "version_minor": 0
      },
      "text/plain": [
       "Checkbox(value=False, description='HbA1c')"
      ]
     },
     "metadata": {},
     "output_type": "display_data"
    },
    {
     "data": {
      "application/vnd.jupyter.widget-view+json": {
       "model_id": "c733910c917b4511b1ac42d6300332e3",
       "version_major": 2,
       "version_minor": 0
      },
      "text/plain": [
       "Checkbox(value=False, description='Hemoglobin')"
      ]
     },
     "metadata": {},
     "output_type": "display_data"
    },
    {
     "data": {
      "application/vnd.jupyter.widget-view+json": {
       "model_id": "707dd4b7a5474f2bb1be19a2dc560995",
       "version_major": 2,
       "version_minor": 0
      },
      "text/plain": [
       "Checkbox(value=False, description='INR')"
      ]
     },
     "metadata": {},
     "output_type": "display_data"
    },
    {
     "data": {
      "application/vnd.jupyter.widget-view+json": {
       "model_id": "4266484806034a28b0b4e175abe4e982",
       "version_major": 2,
       "version_minor": 0
      },
      "text/plain": [
       "Checkbox(value=False, description='Leukocytter')"
      ]
     },
     "metadata": {},
     "output_type": "display_data"
    },
    {
     "data": {
      "application/vnd.jupyter.widget-view+json": {
       "model_id": "2ceede0013a54515992110d1834dbc36",
       "version_major": 2,
       "version_minor": 0
      },
      "text/plain": [
       "Checkbox(value=False, description='MCV')"
      ]
     },
     "metadata": {},
     "output_type": "display_data"
    },
    {
     "data": {
      "application/vnd.jupyter.widget-view+json": {
       "model_id": "f4fecc0b6e244b1c88f7852779f9c16f",
       "version_major": 2,
       "version_minor": 0
      },
      "text/plain": [
       "Checkbox(value=False, description='Monospot')"
      ]
     },
     "metadata": {},
     "output_type": "display_data"
    },
    {
     "data": {
      "application/vnd.jupyter.widget-view+json": {
       "model_id": "af963bd597e94ba99a18bdfec8aa1f6a",
       "version_major": 2,
       "version_minor": 0
      },
      "text/plain": [
       "Checkbox(value=False, description='Senkningsreaksjon')"
      ]
     },
     "metadata": {},
     "output_type": "display_data"
    },
    {
     "data": {
      "application/vnd.jupyter.widget-view+json": {
       "model_id": "c833c9e824644de6bab016c574b5dcc8",
       "version_major": 2,
       "version_minor": 0
      },
      "text/plain": [
       "Checkbox(value=False, description='Strep-A')"
      ]
     },
     "metadata": {},
     "output_type": "display_data"
    },
    {
     "data": {
      "application/vnd.jupyter.widget-view+json": {
       "model_id": "41acc0237eca4d8fb276b4503b92a149",
       "version_major": 2,
       "version_minor": 0
      },
      "text/plain": [
       "Checkbox(value=False, description='Trombocytter')"
      ]
     },
     "metadata": {},
     "output_type": "display_data"
    },
    {
     "data": {
      "application/vnd.jupyter.widget-view+json": {
       "model_id": "46e04bc6595441199de29d5934c5d83c",
       "version_major": 2,
       "version_minor": 0
      },
      "text/plain": [
       "Checkbox(value=False, description='Urin-HCG')"
      ]
     },
     "metadata": {},
     "output_type": "display_data"
    },
    {
     "data": {
      "application/vnd.jupyter.widget-view+json": {
       "model_id": "0df00b8267a64268a42ee11e586e0f3a",
       "version_major": 2,
       "version_minor": 0
      },
      "text/plain": [
       "Checkbox(value=False, description='Urin-stix')"
      ]
     },
     "metadata": {},
     "output_type": "display_data"
    },
    {
     "data": {
      "application/vnd.jupyter.widget-view+json": {
       "model_id": "9ba8d61fbf2745b6bc81d972d0a5b5f3",
       "version_major": 2,
       "version_minor": 0
      },
      "text/plain": [
       "Label(value='Prosedyrer:')"
      ]
     },
     "metadata": {},
     "output_type": "display_data"
    },
    {
     "data": {
      "application/vnd.jupyter.widget-view+json": {
       "model_id": "92567898d4104ce5b6e83da84dd0fea1",
       "version_major": 2,
       "version_minor": 0
      },
      "text/plain": [
       "Checkbox(value=False, description='Glukosebelastningstest')"
      ]
     },
     "metadata": {},
     "output_type": "display_data"
    },
    {
     "data": {
      "application/vnd.jupyter.widget-view+json": {
       "model_id": "63ad7b1280bc40788a391767934e49eb",
       "version_major": 2,
       "version_minor": 0
      },
      "text/plain": [
       "Checkbox(value=False, description='Hemofec (på kontoret)')"
      ]
     },
     "metadata": {},
     "output_type": "display_data"
    },
    {
     "data": {
      "application/vnd.jupyter.widget-view+json": {
       "model_id": "e7998c7a2dbc4b82bb13214e33b4f2de",
       "version_major": 2,
       "version_minor": 0
      },
      "text/plain": [
       "Checkbox(value=False, description='Prøvetaking for klamydia')"
      ]
     },
     "metadata": {},
     "output_type": "display_data"
    },
    {
     "data": {
      "application/vnd.jupyter.widget-view+json": {
       "model_id": "210edb5ad8b2477189358fbcbd7d57ce",
       "version_major": 2,
       "version_minor": 0
      },
      "text/plain": [
       "Checkbox(value=False, description='Prøvetaking for sopp eller skabb')"
      ]
     },
     "metadata": {},
     "output_type": "display_data"
    },
    {
     "data": {
      "application/vnd.jupyter.widget-view+json": {
       "model_id": "eb197f392eb347a1a8251ad4e408a55b",
       "version_major": 2,
       "version_minor": 0
      },
      "text/plain": [
       "Checkbox(value=False, description='Overvåket urinprøvetaking etter forespørsel fra spesialisthelsetjenesten')"
      ]
     },
     "metadata": {},
     "output_type": "display_data"
    },
    {
     "data": {
      "application/vnd.jupyter.widget-view+json": {
       "model_id": "d569f06ff7b74d0e81a744a3ba13a5d5",
       "version_major": 2,
       "version_minor": 0
      },
      "text/plain": [
       "Checkbox(value=False, description='Prøvetaking for barnevernstjenesten')"
      ]
     },
     "metadata": {},
     "output_type": "display_data"
    },
    {
     "data": {
      "application/vnd.jupyter.widget-view+json": {
       "model_id": "b845dc0e5e344e52aa8bb801d56be205",
       "version_major": 2,
       "version_minor": 0
      },
      "text/plain": [
       "Checkbox(value=False, description='Prøvetaking førerkort')"
      ]
     },
     "metadata": {},
     "output_type": "display_data"
    },
    {
     "data": {
      "application/vnd.jupyter.widget-view+json": {
       "model_id": "832271654b524497ade453aae819fd54",
       "version_major": 2,
       "version_minor": 0
      },
      "text/plain": [
       "Checkbox(value=False, description='Prøvetaking for politi')"
      ]
     },
     "metadata": {},
     "output_type": "display_data"
    },
    {
     "data": {
      "application/vnd.jupyter.widget-view+json": {
       "model_id": "7c99d7e72cbe4d05acaabe018fecfc6e",
       "version_major": 2,
       "version_minor": 0
      },
      "text/plain": [
       "Label(value='Sendeprøver:')"
      ]
     },
     "metadata": {},
     "output_type": "display_data"
    },
    {
     "data": {
      "application/vnd.jupyter.widget-view+json": {
       "model_id": "07dcc0413307432881163e2df49998be",
       "version_major": 2,
       "version_minor": 0
      },
      "text/plain": [
       "Checkbox(value=False, description='Volda sykehus biokjemi (blodprøve)')"
      ]
     },
     "metadata": {},
     "output_type": "display_data"
    },
    {
     "data": {
      "application/vnd.jupyter.widget-view+json": {
       "model_id": "8e3e112a4ccd48a99ebebda01cfb5b51",
       "version_major": 2,
       "version_minor": 0
      },
      "text/plain": [
       "Checkbox(value=False, description='Volda sykehus biokjemi (urinprøve)')"
      ]
     },
     "metadata": {},
     "output_type": "display_data"
    },
    {
     "data": {
      "application/vnd.jupyter.widget-view+json": {
       "model_id": "89d138f11016475db850664ef258463e",
       "version_major": 2,
       "version_minor": 0
      },
      "text/plain": [
       "Checkbox(value=False, description='Ålesund sykehus biokjemi (blodprøve)')"
      ]
     },
     "metadata": {},
     "output_type": "display_data"
    },
    {
     "data": {
      "application/vnd.jupyter.widget-view+json": {
       "model_id": "6d90b24f641e4defac98a730b74406dc",
       "version_major": 2,
       "version_minor": 0
      },
      "text/plain": [
       "Checkbox(value=False, description='Ålesund sykehus (urinprøve)')"
      ]
     },
     "metadata": {},
     "output_type": "display_data"
    },
    {
     "data": {
      "application/vnd.jupyter.widget-view+json": {
       "model_id": "6dd1d85b76f546c18055aad2b4c67a9b",
       "version_major": 2,
       "version_minor": 0
      },
      "text/plain": [
       "Checkbox(value=False, description='Ålesund sykehus (avføringsprøve)')"
      ]
     },
     "metadata": {},
     "output_type": "display_data"
    },
    {
     "data": {
      "application/vnd.jupyter.widget-view+json": {
       "model_id": "4cb4ce9dc19c4314a94e601b07a1492f",
       "version_major": 2,
       "version_minor": 0
      },
      "text/plain": [
       "Checkbox(value=False, description='Ålesund sykehus (cytologi)')"
      ]
     },
     "metadata": {},
     "output_type": "display_data"
    },
    {
     "data": {
      "application/vnd.jupyter.widget-view+json": {
       "model_id": "9a718bf537fc4c9da7fac173393a389c",
       "version_major": 2,
       "version_minor": 0
      },
      "text/plain": [
       "Checkbox(value=False, description='Ålesund sykehus (histologi)')"
      ]
     },
     "metadata": {},
     "output_type": "display_data"
    },
    {
     "data": {
      "application/vnd.jupyter.widget-view+json": {
       "model_id": "a893373a8ccd4723b80c773d995a72cd",
       "version_major": 2,
       "version_minor": 0
      },
      "text/plain": [
       "Checkbox(value=False, description='Molde sykehus biokjemi (blodprøve)')"
      ]
     },
     "metadata": {},
     "output_type": "display_data"
    },
    {
     "data": {
      "application/vnd.jupyter.widget-view+json": {
       "model_id": "f6591123221e482fbd380e260f31c446",
       "version_major": 2,
       "version_minor": 0
      },
      "text/plain": [
       "Checkbox(value=False, description='Molde sykehus biokjemi (urinprøve)')"
      ]
     },
     "metadata": {},
     "output_type": "display_data"
    },
    {
     "data": {
      "application/vnd.jupyter.widget-view+json": {
       "model_id": "9ce67fcc100d436d97f5a7716882ad6a",
       "version_major": 2,
       "version_minor": 0
      },
      "text/plain": [
       "Checkbox(value=False, description='Molde sykehus mikrobiologi (virusserologi)')"
      ]
     },
     "metadata": {},
     "output_type": "display_data"
    },
    {
     "data": {
      "application/vnd.jupyter.widget-view+json": {
       "model_id": "541fc1a847c84729b0a8a5c4e3f3d8f5",
       "version_major": 2,
       "version_minor": 0
      },
      "text/plain": [
       "Checkbox(value=False, description='Molde sykehus mikrobiologi (PCR)')"
      ]
     },
     "metadata": {},
     "output_type": "display_data"
    },
    {
     "data": {
      "application/vnd.jupyter.widget-view+json": {
       "model_id": "6757d353e7ed446b8b92683d95442c97",
       "version_major": 2,
       "version_minor": 0
      },
      "text/plain": [
       "Checkbox(value=False, description='Molde sykehus mikrobiologi (dyrkning)')"
      ]
     },
     "metadata": {},
     "output_type": "display_data"
    },
    {
     "data": {
      "application/vnd.jupyter.widget-view+json": {
       "model_id": "f0a3c4605cb64ab38e2bde8fd4990a06",
       "version_major": 2,
       "version_minor": 0
      },
      "text/plain": [
       "Checkbox(value=False, description='Kristiansund sykehus (avføringsprøve)')"
      ]
     },
     "metadata": {},
     "output_type": "display_data"
    },
    {
     "data": {
      "application/vnd.jupyter.widget-view+json": {
       "model_id": "d73c6c83441b45e680700a5d6c3bf3dd",
       "version_major": 2,
       "version_minor": 0
      },
      "text/plain": [
       "Checkbox(value=False, description='St. Olavs hospital')"
      ]
     },
     "metadata": {},
     "output_type": "display_data"
    },
    {
     "data": {
      "application/vnd.jupyter.widget-view+json": {
       "model_id": "3a33f56cfedc44758aa3e4733b78966b",
       "version_major": 2,
       "version_minor": 0
      },
      "text/plain": [
       "Button(description='Beregn', style=ButtonStyle())"
      ]
     },
     "metadata": {},
     "output_type": "display_data"
    },
    {
     "data": {
      "application/vnd.jupyter.widget-view+json": {
       "model_id": "6eacf70e8fa54e8a80e77a7ac4f59961",
       "version_major": 2,
       "version_minor": 0
      },
      "text/plain": [
       "Output()"
      ]
     },
     "metadata": {},
     "output_type": "display_data"
    }
   ],
   "source": [
    "import ipywidgets as widgets\n",
    "from IPython.display import display, clear_output\n",
    "\n",
    "# Tariffinformasjon\n",
    "tariffs = {\n",
    "    '1ad': {'self': 61, 'helfo': 19, 'total': 80},\n",
    "    '1e': {'self': 59, 'helfo': 10, 'total': 69},\n",
    "    '701a': {'self': 61, 'helfo': 11, 'total': 72},\n",
    "    '701c': {'self': 0, 'helfo': 24, 'total': 24},  # Takst for sendeprøver\n",
    "    '705k': {'self': 0, 'helfo': 51, 'total': 51},\n",
    "    '706f': {'self': 0, 'helfo': 76, 'total': 76},\n",
    "    '708a': {'self': 0, 'helfo': 24, 'total': 24},\n",
    "    '709': {'self': 0, 'helfo': 157, 'total': 157},\n",
    "    '704j': {'self': 0, 'helfo': 39, 'total': 39},\n",
    "    '710': {'self': 0, 'helfo': 85, 'total': 85},\n",
    "    '706h': {'self': 0, 'helfo': 38, 'total': 38},\n",
    "    '706k': {'self': 0, 'helfo': 47, 'total': 47},\n",
    "    '706l': {'self': 0, 'helfo': 62, 'total': 62},\n",
    "    '705h': {'self': 0, 'helfo': 19, 'total': 19},\n",
    "    '705i': {'self': 0, 'helfo': 45, 'total': 45},\n",
    "    '10c': {'self': 155, 'helfo': 0, 'total': 155},  # Ny takst for Glukosebelastningstest\n",
    "    '121a': {'self': 0, 'helfo': 177, 'total': 177},  # Ny takst for Glukosebelastningstest\n",
    "    '618': {'self': 0, 'helfo': 177, 'total': 177},  # Ny takst for overvåket urinprøvetaking\n",
    "    'T+250': {'self': 0, 'helfo': 0, 'total': 0},  # Tilleggshonorar er en spesiell type\n",
    "    'T+606': {'self': 0, 'helfo': 0, 'total': 0}  # Tilleggshonorar for politi\n",
    "}\n",
    "\n",
    "# Widget for valg av kontakttype\n",
    "contact_type = widgets.RadioButtons(\n",
    "    options=['Kun laboratorie', 'Ekstern rekvirent', 'Konsultasjon samme dag'],\n",
    "    description='Velg kontakttype:'\n",
    ")\n",
    "\n",
    "# Prøvevalg med sjekkbokser for lokale prøver\n",
    "test_to_tariff_keys = {\n",
    "    'CRP': ['701a', '705k'],\n",
    "    'Differensialtelling av leukocytter': ['701a', '706f'],\n",
    "    'Glukose': ['701a', '708a'],\n",
    "    'HbA1c': ['701a', '709'],\n",
    "    'Hemoglobin': ['1e'],\n",
    "    'INR': ['701a', '710'],\n",
    "    'Leukocytter': ['1e'],\n",
    "    'MCV': ['701a', '706f'],\n",
    "    'Monospot': ['701a', '706l'],\n",
    "    'Senkningsreaksjon': ['1e'],\n",
    "    'Strep-A': ['701a', '706k'],\n",
    "    'Trombocytter': ['701a', '706f'],\n",
    "    'Urin-HCG': ['701a', '706h'],\n",
    "    'Urin-stix': []\n",
    "}\n",
    "\n",
    "procedure_to_tariff_keys = {\n",
    "    'Glukosebelastningstest': ['10c', '121a'],  # Flyttet til prosedyrer\n",
    "    'Hemofec (på kontoret)': ['701a', '704j'],  # Flyttet til prosedyrer\n",
    "    'Prøvetaking for klamydia': ['701a', '705h'],  # Flyttet til prosedyrer\n",
    "    'Prøvetaking for sopp eller skabb': ['701a', '705i'],  # Flyttet til prosedyrer\n",
    "    'Overvåket urinprøvetaking etter forespørsel fra spesialisthelsetjenesten': ['701a', '618'],  # Flyttet til prosedyrer\n",
    "    'Prøvetaking for barnevernstjenesten': ['T+250'],  # Ny prøve under prosedyrer\n",
    "    'Prøvetaking førerkort': ['T+250'],  # Ny prøve under prosedyrer\n",
    "    'Prøvetaking for politi': ['T+606']  # Ny prøve under prosedyrer\n",
    "}\n",
    "\n",
    "local_tests_checkboxes = [widgets.Checkbox(value=False, description=test) for test in test_to_tariff_keys.keys()]\n",
    "local_tests_label = widgets.Label('Lokale prøver:')\n",
    "\n",
    "procedure_checkboxes = [widgets.Checkbox(value=False, description=test) for test in procedure_to_tariff_keys.keys()]\n",
    "procedure_label = widgets.Label('Prosedyrer:')\n",
    "\n",
    "# Sendeprøver med sjekkbokser\n",
    "sendeprover_checkboxes = [\n",
    "    widgets.Checkbox(value=False, description='Volda sykehus biokjemi (blodprøve)'),\n",
    "    widgets.Checkbox(value=False, description='Volda sykehus biokjemi (urinprøve)'),\n",
    "    widgets.Checkbox(value=False, description='Ålesund sykehus biokjemi (blodprøve)'),\n",
    "    widgets.Checkbox(value=False, description='Ålesund sykehus (urinprøve)'),\n",
    "    widgets.Checkbox(value=False, description='Ålesund sykehus (avføringsprøve)'),\n",
    "    widgets.Checkbox(value=False, description='Ålesund sykehus (cytologi)'),\n",
    "    widgets.Checkbox(value=False, description='Ålesund sykehus (histologi)'),\n",
    "    widgets.Checkbox(value=False, description='Molde sykehus biokjemi (blodprøve)'),\n",
    "    widgets.Checkbox(value=False, description='Molde sykehus biokjemi (urinprøve)'),\n",
    "    widgets.Checkbox(value=False, description='Molde sykehus mikrobiologi (virusserologi)'),\n",
    "    widgets.Checkbox(value=False, description='Molde sykehus mikrobiologi (PCR)'),\n",
    "    widgets.Checkbox(value=False, description='Molde sykehus mikrobiologi (dyrkning)'),\n",
    "    widgets.Checkbox(value=False, description='Kristiansund sykehus (avføringsprøve)'),\n",
    "    widgets.Checkbox(value=False, description='St. Olavs hospital')\n",
    "]\n",
    "sendeprover_label = widgets.Label('Sendeprøver:')\n",
    "\n",
    "# Beregningsknapp og output-område\n",
    "calculate_button = widgets.Button(description=\"Beregn\")\n",
    "result_output = widgets.Output()\n",
    "\n",
    "def calculate_button_clicked(b):\n",
    "    sum_self = sum_helfo = sum_total = 0\n",
    "    tilleggshonorar = 0\n",
    "    selected_tariffs = []\n",
    "\n",
    "    # Behandler lokale prøver\n",
    "    for checkbox in local_tests_checkboxes:\n",
    "        if checkbox.value:\n",
    "            tariff_keys = test_to_tariff_keys[checkbox.description].copy()\n",
    "            selected_tariffs.extend(tariff_keys)\n",
    "\n",
    "    # Behandler prosedyrer\n",
    "    for checkbox in procedure_checkboxes:\n",
    "        if checkbox.value:\n",
    "            tariff_keys = procedure_to_tariff_keys[checkbox.description].copy()\n",
    "            if 'T+250' in tariff_keys:\n",
    "                tilleggshonorar += 250\n",
    "            if 'T+606' in tariff_keys:\n",
    "                tilleggshonorar += 606\n",
    "            selected_tariffs.extend(tariff_keys)\n",
    "\n",
    "    # Regelen om at 121a ikke kan legges til hvis 708a er lagt til, og omvendt\n",
    "    if '121a' in selected_tariffs and '708a' in selected_tariffs:\n",
    "        selected_tariffs = [tariff for tariff in selected_tariffs if tariff != '708a']\n",
    "\n",
    "    # Automatisk valg basert på prosedyrer\n",
    "    if procedure_checkboxes[[cb.description for cb in procedure_checkboxes].index('Prøvetaking for klamydia')].value:\n",
    "        sendeprover_checkboxes[[cb.description for cb in sendeprover_checkboxes].index('Molde sykehus mikrobiologi (PCR)')].value = True\n",
    "    if procedure_checkboxes[[cb.description for cb in procedure_checkboxes].index('Prøvetaking for sopp eller skabb')].value:\n",
    "        sendeprover_checkboxes[[cb.description for cb in sendeprover_checkboxes].index('Molde sykehus mikrobiologi (dyrkning)')].value = True\n",
    "\n",
    "    # Automatisk valg basert på \"Overvåket urinprøvetaking etter forespørsel fra spesialisthelsetjenesten\"\n",
    "    if procedure_checkboxes[[cb.description for cb in procedure_checkboxes].index('Overvåket urinprøvetaking etter forespørsel fra spesialisthelsetjenesten')].value:\n",
    "        sendeprover_checkboxes[[cb.description for cb in sendeprover_checkboxes].index('St. Olavs hospital')].value = True\n",
    "\n",
    "    # Behandler sendeprøver\n",
    "    count_sendeprover = sum(checkbox.value for checkbox in sendeprover_checkboxes)\n",
    "    if count_sendeprover > 0:\n",
    "        selected_tariffs.append('701a')\n",
    "    selected_tariffs.extend(['701c'] * (count_sendeprover - 1))\n",
    "\n",
    "    # Legger til '1ad' dersom \"Ekstern rekvirent\" er valgt\n",
    "    if contact_type.value == 'Ekstern rekvirent':\n",
    "        selected_tariffs.append('1ad')\n",
    "\n",
    "    # Unngå duplikater av '701a' og '1e'\n",
    "    if '701a' in selected_tariffs:\n",
    "        selected_tariffs = [tariff for tariff in selected_tariffs if tariff != '701a']\n",
    "        selected_tariffs.append('701a')\n",
    "    if '1e' in selected_tariffs:\n",
    "        selected_tariffs = [tariff for tariff in selected_tariffs if tariff != '1e']\n",
    "        selected_tariffs.append('1e')\n",
    "\n",
    "    # Spesialhåndtering for '1e'\n",
    "    if '701a' in selected_tariffs and '1e' in selected_tariffs:\n",
    "        while '1e' in selected_tariffs:\n",
    "            selected_tariffs.remove('1e')\n",
    "    if contact_type.value != 'Kun laboratorie':\n",
    "        while '1e' in selected_tariffs:\n",
    "            selected_tariffs.remove('1e')\n",
    "\n",
    "    # Beregner totale kostnader basert på valgte takster\n",
    "    tariff_count = {}\n",
    "    for tariff in selected_tariffs:\n",
    "        if tariff in tariffs:\n",
    "            sum_self += tariffs[tariff]['self']\n",
    "            sum_helfo += tariffs[tariff]['helfo']\n",
    "            sum_total += tariffs[tariff]['total']\n",
    "            tariff_count[tariff] = tariff_count.get(tariff, 0) + 1\n",
    "\n",
    "    # Legger til tilleggshonorar\n",
    "    sum_total += tilleggshonorar\n",
    "\n",
    "    with result_output:\n",
    "        clear_output(wait=True)\n",
    "        print(f\"Sum egenbetaling: {sum_self} kr\")\n",
    "        print(f\"Sum HELFO-refusjon: {sum_helfo} kr\")\n",
    "        print(f\"Sum totalt: {sum_total} kr\")\n",
    "        print(\"Brukte takster:\", ', '.join(f\"{tariff} x {tariff_count[tariff]}\" for tariff in tariff_count))\n",
    "        if '1ad' in selected_tariffs:\n",
    "            print(\"Husk å skrive hvem som er ekstern rekvirent i journal.\")\n",
    "        if 'Prøvetaking for barnevernstjenesten' in [cb.description for cb in procedure_checkboxes if cb.value]:\n",
    "            print(\"Faktura skal sendes til barnevernstjenesten. Prøven skal sendes til Fürst. Barnevernstjenesten skal ordne rekvisisjon og stå som betaler av prøven.\")\n",
    "        if 'Prøvetaking førerkort' in [cb.description for cb in procedure_checkboxes if cb.value]:\n",
    "            print(\"Pasienten skal betale selv for prøvetaking og analyse. Prøven skal sendes til Fürst. Fastlegen skal ordne rekvisisjon. Pasienten skal stå som fakturamottaker på rekvisisjonsskjema.\")\n",
    "        if 'Prøvetaking for politi' in [cb.description for cb in procedure_checkboxes if cb.value]:\n",
    "            print(\"Faktura skal sendes til politiet. Politiet skal ha med rekvisisjonsskjema.\")\n",
    "\n",
    "calculate_button.on_click(calculate_button_clicked)\n",
    "\n",
    "# Viser alle widgets\n",
    "display(contact_type)\n",
    "display(local_tests_label)\n",
    "for checkbox in local_tests_checkboxes:\n",
    "    display(checkbox)\n",
    "display(procedure_label)\n",
    "for checkbox in procedure_checkboxes:\n",
    "    display(checkbox)\n",
    "display(sendeprover_label)\n",
    "for checkbox in sendeprover_checkboxes:\n",
    "    display(checkbox)\n",
    "display(calculate_button, result_output)\n"
   ]
  },
  {
   "cell_type": "code",
   "execution_count": null,
   "id": "90bfefdf-238e-4de8-aa7b-8eb00490408e",
   "metadata": {},
   "outputs": [],
   "source": []
  }
 ],
 "metadata": {
  "kernelspec": {
   "display_name": "Python 3 (ipykernel)",
   "language": "python",
   "name": "python3"
  },
  "language_info": {
   "codemirror_mode": {
    "name": "ipython",
    "version": 3
   },
   "file_extension": ".py",
   "mimetype": "text/x-python",
   "name": "python",
   "nbconvert_exporter": "python",
   "pygments_lexer": "ipython3",
   "version": "3.12.3"
  }
 },
 "nbformat": 4,
 "nbformat_minor": 5
}
